{
  "metadata": {
    "kernelspec": {
      "name": "python",
      "display_name": "Python (Pyodide)",
      "language": "python"
    },
    "language_info": {
      "codemirror_mode": {
        "name": "python",
        "version": 3
      },
      "file_extension": ".py",
      "mimetype": "text/x-python",
      "name": "python",
      "nbconvert_exporter": "python",
      "pygments_lexer": "ipython3",
      "version": "3.8"
    }
  },
  "nbformat_minor": 5,
  "nbformat": 4,
  "cells": [
    {
      "id": "b2e692a0-014c-4456-a91c-1eb2067561fd",
      "cell_type": "code",
      "source": "import socket",
      "metadata": {
        "trusted": true
      },
      "outputs": [],
      "execution_count": 1
    },
    {
      "id": "1f0be24f-f0b5-43a5-9856-ee70bc551e02",
      "cell_type": "code",
      "source": "in_addr=socket.gethostbyname(socket.gethostname())",
      "metadata": {
        "trusted": true
      },
      "outputs": [],
      "execution_count": 2
    },
    {
      "id": "f3b127c2-684e-42b7-84d3-edb876b71928",
      "cell_type": "code",
      "source": "print(in_addr)",
      "metadata": {
        "trusted": true
      },
      "outputs": [
        {
          "name": "stdout",
          "output_type": "stream",
          "text": "172.29.1.0\n"
        }
      ],
      "execution_count": 3
    },
    {
      "id": "d4b83053-ea7b-47ef-8c9b-42083a5ba821",
      "cell_type": "code",
      "source": "",
      "metadata": {
        "trusted": true
      },
      "outputs": [],
      "execution_count": null
    }
  ]
}