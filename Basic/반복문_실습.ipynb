{
  "metadata": {
    "kernelspec": {
      "name": "python",
      "display_name": "Python (Pyodide)",
      "language": "python"
    },
    "language_info": {
      "codemirror_mode": {
        "name": "python",
        "version": 3
      },
      "file_extension": ".py",
      "mimetype": "text/x-python",
      "name": "python",
      "nbconvert_exporter": "python",
      "pygments_lexer": "ipython3",
      "version": "3.8"
    }
  },
  "nbformat_minor": 5,
  "nbformat": 4,
  "cells": [
    {
      "id": "4d3ea051-080b-4ebe-89b2-b262a118f15e",
      "cell_type": "code",
      "source": "range(7)",
      "metadata": {
        "trusted": true
      },
      "outputs": [
        {
          "execution_count": 1,
          "output_type": "execute_result",
          "data": {
            "text/plain": "range(0, 7)"
          },
          "metadata": {}
        }
      ],
      "execution_count": 1
    },
    {
      "id": "223e810b-a050-4e6b-91f4-d1c33e52c1f8",
      "cell_type": "code",
      "source": "#range(7)=[0,1,2,3,4,5,6]",
      "metadata": {
        "trusted": true
      },
      "outputs": [],
      "execution_count": 3
    },
    {
      "id": "a218898d-6416-4261-82a4-3cdd636d4f9d",
      "cell_type": "code",
      "source": "for i in range(7):\n    print(i)",
      "metadata": {
        "trusted": true
      },
      "outputs": [
        {
          "name": "stdout",
          "output_type": "stream",
          "text": "0\n1\n2\n3\n4\n5\n6\n"
        }
      ],
      "execution_count": 4
    },
    {
      "id": "6030fc49-9179-45c9-8e32-9fd8756cba34",
      "cell_type": "code",
      "source": "for i in range(5,10):\n    print(i)",
      "metadata": {
        "trusted": true
      },
      "outputs": [
        {
          "name": "stdout",
          "output_type": "stream",
          "text": "5\n6\n7\n8\n9\n"
        }
      ],
      "execution_count": 5
    },
    {
      "id": "c766fbce-e2a3-4581-a1f5-524de13f05d9",
      "cell_type": "code",
      "source": "name_list=[\"강요한\",\"임윤태\",\"박준영\"]\nage_list=[500,5,12]\n\nfor i,name in enumerate(name_list):\n    print(\"i=\",i,end=\"  \")\n    print(\"name=\",name)",
      "metadata": {
        "trusted": true
      },
      "outputs": [
        {
          "name": "stdout",
          "output_type": "stream",
          "text": "i= 0  name= 강요한\ni= 1  name= 임윤태\ni= 2  name= 박준영\n"
        }
      ],
      "execution_count": 8
    },
    {
      "id": "ac98ce37-da2d-4e9a-8665-4bc4ae6b4562",
      "cell_type": "code",
      "source": "test_list=[i for i in range(10)]\nprint(test_list) #리스트 전체를 풀어서 설명",
      "metadata": {
        "trusted": true
      },
      "outputs": [
        {
          "name": "stdout",
          "output_type": "stream",
          "text": "[0, 1, 2, 3, 4, 5, 6, 7, 8, 9]\n"
        }
      ],
      "execution_count": 13
    },
    {
      "id": "e0e3111b-c0c9-44da-b3b8-8e532e22e8c2",
      "cell_type": "code",
      "source": "test_list=range(10)\nprint(test_list) #리스트가 아닌, range 객체만 출력",
      "metadata": {
        "trusted": true
      },
      "outputs": [
        {
          "name": "stdout",
          "output_type": "stream",
          "text": "range(0, 10)\n"
        }
      ],
      "execution_count": 14
    },
    {
      "id": "032702c0-5e11-4675-b36b-5f8161947910",
      "cell_type": "code",
      "source": "",
      "metadata": {
        "trusted": true
      },
      "outputs": [],
      "execution_count": null
    }
  ]
}