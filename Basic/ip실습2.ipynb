{
  "metadata": {
    "kernelspec": {
      "name": "python",
      "display_name": "Python (Pyodide)",
      "language": "python"
    },
    "language_info": {
      "codemirror_mode": {
        "name": "python",
        "version": 3
      },
      "file_extension": ".py",
      "mimetype": "text/x-python",
      "name": "python",
      "nbconvert_exporter": "python",
      "pygments_lexer": "ipython3",
      "version": "3.8"
    }
  },
  "nbformat_minor": 5,
  "nbformat": 4,
  "cells": [
    {
      "id": "dc4fbb1f-14f9-4cb1-9456-b4d71b3b8af2",
      "cell_type": "code",
      "source": "import socket",
      "metadata": {
        "trusted": true
      },
      "outputs": [],
      "execution_count": 1
    },
    {
      "id": "afe037d0-3369-4855-b7d3-0ab852e86784",
      "cell_type": "code",
      "source": "def func():\n    in_addr=socket.gethostbyname(socket.gethostname())\n    return in_addr",
      "metadata": {
        "trusted": true
      },
      "outputs": [],
      "execution_count": 2
    },
    {
      "id": "c3237252-f13c-4512-a09f-8927527ddafc",
      "cell_type": "code",
      "source": "for i in range(3):\n    ip=func()\n    print(ip)",
      "metadata": {
        "trusted": true
      },
      "outputs": [
        {
          "name": "stdout",
          "output_type": "stream",
          "text": "172.29.1.0\n172.29.1.0\n172.29.1.0\n"
        }
      ],
      "execution_count": 3
    },
    {
      "id": "c0791ff1-b5ef-452a-a0f4-79149dedfe3f",
      "cell_type": "code",
      "source": "print(func())",
      "metadata": {
        "trusted": true
      },
      "outputs": [
        {
          "name": "stdout",
          "output_type": "stream",
          "text": "172.29.1.0\n"
        }
      ],
      "execution_count": 4
    },
    {
      "id": "a182101c-4f39-4b11-a13e-26ecb5bb37d5",
      "cell_type": "code",
      "source": "",
      "metadata": {
        "trusted": true
      },
      "outputs": [],
      "execution_count": null
    }
  ]
}