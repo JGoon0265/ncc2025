{
  "metadata": {
    "kernelspec": {
      "name": "python",
      "display_name": "Python (Pyodide)",
      "language": "python"
    },
    "language_info": {
      "codemirror_mode": {
        "name": "python",
        "version": 3
      },
      "file_extension": ".py",
      "mimetype": "text/x-python",
      "name": "python",
      "nbconvert_exporter": "python",
      "pygments_lexer": "ipython3",
      "version": "3.8"
    }
  },
  "nbformat_minor": 5,
  "nbformat": 4,
  "cells": [
    {
      "id": "704d007f-83e9-4054-90ab-503889d24479",
      "cell_type": "code",
      "source": "def func(): #함수 정의\n    print(\"안녕하세요\")\n    print(\"오늘은 2025년 2월 20일 입니다.\")\n    today = \"2025-02-20\" \n    return today\nfor i in range(3):\n    t = func() #함수 호출\n    print(t)",
      "metadata": {
        "trusted": true
      },
      "outputs": [
        {
          "name": "stdout",
          "output_type": "stream",
          "text": "안녕하세요\n오늘은 2025년 2월 20일 입니다.\n2025-02-20\n안녕하세요\n오늘은 2025년 2월 20일 입니다.\n2025-02-20\n안녕하세요\n오늘은 2025년 2월 20일 입니다.\n2025-02-20\n"
        }
      ],
      "execution_count": 1
    },
    {
      "id": "3aaa8f22-5f55-4aa8-98ee-95bcae4a086d",
      "cell_type": "code",
      "source": "def func(input): #함수 정의\n    print(input)\n    output = \"2025-02-20\" \n    return output\no = func(\"02\") #함수 호출\nprint(o)",
      "metadata": {
        "trusted": true
      },
      "outputs": [
        {
          "name": "stdout",
          "output_type": "stream",
          "text": "02\n2025-02-20\n"
        }
      ],
      "execution_count": 2
    },
    {
      "id": "1cc0f051-054d-4c4b-a531-48dafec57867",
      "cell_type": "code",
      "source": "import socket\nimport uuid\ndef get_my_ip_addr(): \n    in_addr = socket.gethostbyname(socket.gethostname())\n    return in_addr \ndef getMacAddress():\n    mac = uuid.UUID(int=uuid.getnode()).hex[-12:]\n    return \":\".join([mac[e:e + 2] for e in range(0, 11, 2)])\nip = get_my_ip_addr()\nmac_address = getMacAddress()\nprint(ip)    \nprint(f\"MAC Address: {mac_address}\")",
      "metadata": {
        "trusted": true
      },
      "outputs": [
        {
          "name": "stdout",
          "output_type": "stream",
          "text": "172.29.1.0\nMAC Address: 37:d3:cf:88:32:f5\n"
        }
      ],
      "execution_count": 3
    },
    {
      "id": "63d665ba-9af8-412b-a266-7e19d85e8c5a",
      "cell_type": "code",
      "source": "",
      "metadata": {
        "trusted": true
      },
      "outputs": [],
      "execution_count": null
    }
  ]
}